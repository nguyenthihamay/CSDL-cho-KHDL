{
 "cells": [
  {
   "cell_type": "markdown",
   "id": "2987efb1",
   "metadata": {},
   "source": [
    "# Câu 1:"
   ]
  },
  {
   "cell_type": "code",
   "execution_count": 1,
   "id": "ea4948b0",
   "metadata": {},
   "outputs": [
    {
     "name": "stdout",
     "output_type": "stream",
     "text": [
      "Hệ tương quan Pearson r_AB = 0.6911\n"
     ]
    }
   ],
   "source": [
    "import sqlite3\n",
    "import pandas as pd\n",
    "import numpy as np\n",
    "from itertools import combinations\n",
    "from math import sqrt\n",
    "# Tạo kết nối SQLite\n",
    "conn = sqlite3.connect(\":memory:\")\n",
    "cur = conn.cursor()\n",
    "# Tạo bảng dữ liệu A, B\n",
    "cur.execute('''\n",
    "CREATE TABLE scores (\n",
    "    id INTEGER PRIMARY KEY,\n",
    "    A REAL,\n",
    "    B REAL\n",
    ")\n",
    "''')\n",
    "data = [\n",
    "    (1, 8, 9),\n",
    "    (2, 7.5, 8.5),\n",
    "    (3, 6, 7),\n",
    "    (4, 7, 6)\n",
    "]\n",
    "cur.executemany('INSERT INTO scores (id, A, B) VALUES (?, ?, ?)', data)\n",
    "\n",
    "query = '''\n",
    "SELECT\n",
    "    (COUNT(*) * SUM(A * B) - SUM(A) * SUM(B)) /\n",
    "    (SQRT(COUNT(*) * SUM(A*A) - SUM(A)*SUM(A)) * SQRT(COUNT(*) * SUM(B*B) - SUM(B)*SUM(B))) AS r_ab\n",
    "FROM scores\n",
    "'''\n",
    "r_ab = cur.execute(query).fetchone()[0]\n",
    "print(\"Hệ tương quan Pearson r_AB =\", round(r_ab, 4))"
   ]
  },
  {
   "cell_type": "markdown",
   "id": "e5ef858f",
   "metadata": {},
   "source": [
    "# Câu 2:"
   ]
  },
  {
   "cell_type": "code",
   "execution_count": 2,
   "id": "67bc673d",
   "metadata": {},
   "outputs": [
    {
     "name": "stdout",
     "output_type": "stream",
     "text": [
      "Dữ liệu dạng quan hệ:\n",
      "      Day Model  Score\n",
      "0   Day 1     A    8.0\n",
      "1   Day 2     A    7.5\n",
      "2   Day 3     A    6.0\n",
      "3   Day 4     A    7.0\n",
      "4   Day 1     B    9.0\n",
      "5   Day 2     B    8.5\n",
      "6   Day 3     B    7.0\n",
      "7   Day 4     B    6.0\n",
      "8   Day 1     C    7.0\n",
      "9   Day 2     C    7.0\n",
      "10  Day 3     C    8.0\n",
      "11  Day 4     C    5.0\n"
     ]
    }
   ],
   "source": [
    "# Tạo bảng điểm thử nghiệm\n",
    "cur.execute('''\n",
    "CREATE TABLE test_scores (\n",
    "    Day TEXT,\n",
    "    A REAL,\n",
    "    B REAL,\n",
    "    C REAL\n",
    ")\n",
    "''')\n",
    "\n",
    "# Chèn dữ liệu\n",
    "test_data = [\n",
    "    ('Day 1', 8, 9, 7),\n",
    "    ('Day 2', 7.5, 8.5, 7),\n",
    "    ('Day 3', 6, 7, 8),\n",
    "    ('Day 4', 7, 6, 5)\n",
    "]\n",
    "cur.executemany('INSERT INTO test_scores VALUES (?, ?, ?, ?)', test_data)\n",
    "\n",
    "# Chuyển về dạng quan hệ\n",
    "query_long_format = '''\n",
    "SELECT Day, 'A' AS Model, A AS Score FROM test_scores\n",
    "UNION ALL\n",
    "SELECT Day, 'B', B FROM test_scores\n",
    "UNION ALL\n",
    "SELECT Day, 'C', C FROM test_scores\n",
    "'''\n",
    "df_long = pd.read_sql_query(query_long_format, conn)\n",
    "print(\"Dữ liệu dạng quan hệ:\")\n",
    "print(df_long)"
   ]
  },
  {
   "cell_type": "code",
   "execution_count": 3,
   "id": "9580423a",
   "metadata": {},
   "outputs": [
    {
     "name": "stdout",
     "output_type": "stream",
     "text": [
      "\n",
      "Kết quả kiểm định Chi-squared:\n",
      "Chi2 = 0.0\n",
      "p-value = 1.0\n",
      "Degrees of Freedom: 6\n",
      "Sự khác biệt đáng kể:  Không có\n"
     ]
    }
   ],
   "source": [
    "from scipy.stats import chi2_contingency\n",
    "\n",
    "contingency = pd.crosstab(df_long['Day'], df_long['Model'])\n",
    "\n",
    "# Kiểm định\n",
    "chi2, p, dof, expected = chi2_contingency(contingency)\n",
    "\n",
    "print(\"\\nKết quả kiểm định Chi-squared:\")\n",
    "print(\"Chi2 =\", round(chi2, 4))\n",
    "print(\"p-value =\", round(p, 4))\n",
    "print(\"Degrees of Freedom:\", dof)\n",
    "print(\"Sự khác biệt đáng kể: \" , \"Có\" if p < 0.05 else \"Không có\")"
   ]
  },
  {
   "cell_type": "markdown",
   "id": "1c8d619e",
   "metadata": {},
   "source": [
    "# Câu 3:"
   ]
  },
  {
   "cell_type": "code",
   "execution_count": 4,
   "id": "419add3c",
   "metadata": {},
   "outputs": [
    {
     "data": {
      "text/html": [
       "<div>\n",
       "<style scoped>\n",
       "    .dataframe tbody tr th:only-of-type {\n",
       "        vertical-align: middle;\n",
       "    }\n",
       "\n",
       "    .dataframe tbody tr th {\n",
       "        vertical-align: top;\n",
       "    }\n",
       "\n",
       "    .dataframe thead th {\n",
       "        text-align: right;\n",
       "    }\n",
       "</style>\n",
       "<table border=\"1\" class=\"dataframe\">\n",
       "  <thead>\n",
       "    <tr style=\"text-align: right;\">\n",
       "      <th></th>\n",
       "      <th>flight_id</th>\n",
       "      <th>departure_time</th>\n",
       "      <th>formatted_time</th>\n",
       "    </tr>\n",
       "  </thead>\n",
       "  <tbody>\n",
       "    <tr>\n",
       "      <th>0</th>\n",
       "      <td>1</td>\n",
       "      <td>830</td>\n",
       "      <td>08:30</td>\n",
       "    </tr>\n",
       "    <tr>\n",
       "      <th>1</th>\n",
       "      <td>2</td>\n",
       "      <td>1445</td>\n",
       "      <td>14:45</td>\n",
       "    </tr>\n",
       "    <tr>\n",
       "      <th>2</th>\n",
       "      <td>3</td>\n",
       "      <td>120</td>\n",
       "      <td>01:20</td>\n",
       "    </tr>\n",
       "    <tr>\n",
       "      <th>3</th>\n",
       "      <td>4</td>\n",
       "      <td>2359</td>\n",
       "      <td>23:59</td>\n",
       "    </tr>\n",
       "  </tbody>\n",
       "</table>\n",
       "</div>"
      ],
      "text/plain": [
       "   flight_id  departure_time formatted_time\n",
       "0          1             830          08:30\n",
       "1          2            1445          14:45\n",
       "2          3             120          01:20\n",
       "3          4            2359          23:59"
      ]
     },
     "execution_count": 4,
     "metadata": {},
     "output_type": "execute_result"
    }
   ],
   "source": [
    "cur.execute(\"create table flights(flight_id integer, departure_time integer)\")\n",
    "flights_data = [(1, 830), (2, 1445), (3, 120), (4, 2359)]\n",
    "cur.executemany(\"insert into flights values (?, ?)\", flights_data)\n",
    "\n",
    "# Tạo cột formatted_time từ departure_time (hhmm)\n",
    "cur.execute(\"\"\"\n",
    "    select \n",
    "        flight_id,\n",
    "        departure_time,\n",
    "        printf('%02d:%02d', departure_time / 100, departure_time % 100) as formatted_time\n",
    "    from flights\n",
    "\"\"\")\n",
    "flights_result = cur.fetchall()\n",
    "df_flights = pd.DataFrame(flights_result, columns=[\"flight_id\", \"departure_time\", \"formatted_time\"])\n",
    "df_flights"
   ]
  },
  {
   "cell_type": "markdown",
   "id": "4d43089e",
   "metadata": {},
   "source": [
    "# Câu 4:"
   ]
  },
  {
   "cell_type": "code",
   "execution_count": 6,
   "id": "f834484e",
   "metadata": {},
   "outputs": [
    {
     "name": "stdout",
     "output_type": "stream",
     "text": [
      "Median = 10.0\n",
      "MAD = 4.0\n",
      "Ngưỡng ngoại lệ (1.5×MAD): ±6.0\n",
      "Giá trị ngoại lệ: [-2.0, 111.0, 199.0]\n"
     ]
    }
   ],
   "source": [
    "cur.execute('''CREATE TABLE data_2(\n",
    "           gia_tri float\n",
    "           )''')\n",
    "values = [(14,), (5,), (7,), (8,), (-2,), (111,), (10,), (11,), (13,), (5,), (199,)]\n",
    "cur.executemany(\"INSERT INTO data_2(gia_tri) VALUES (?)\", values)\n",
    "conn.commit()\n",
    "cur.execute(\"\"\"\n",
    "SELECT gia_tri FROM data_2\n",
    "ORDER BY gia_tri\n",
    "\"\"\")\n",
    "vals = [row[0] for row in cur.fetchall()]\n",
    "n = len(vals)\n",
    "median = (vals[n // 2] if n % 2 == 1 else (vals[n // 2 - 1] + vals[n // 2]) / 2)\n",
    "\n",
    "# Tính |xi - median|\n",
    "abs_devs = [abs(v - median) for v in vals]\n",
    "abs_devs.sort()\n",
    "mad = (abs_devs[n // 2] if n % 2 == 1 else (abs_devs[n // 2 - 1] + abs_devs[n // 2]) / 2)\n",
    "\n",
    "# ngoại lệ (vượt 1.5 × MAD)\n",
    "threshold = 1.5 * mad\n",
    "outliers = [v for v in vals if abs(v - median) > threshold]\n",
    "\n",
    "print(f\"Median = {median}\")\n",
    "print(f\"MAD = {mad}\")\n",
    "print(f\"Ngưỡng ngoại lệ (1.5×MAD): ±{threshold}\")\n",
    "print(\"Giá trị ngoại lệ:\", outliers)"
   ]
  },
  {
   "cell_type": "markdown",
   "id": "5b92d0b0",
   "metadata": {},
   "source": [
    "# Câu 5:"
   ]
  },
  {
   "cell_type": "code",
   "execution_count": 7,
   "id": "6ccd7a9e",
   "metadata": {},
   "outputs": [
    {
     "name": "stdout",
     "output_type": "stream",
     "text": [
      "   id last_name  weight  height\n",
      "0   1    Nguyen    60.0   170.0\n",
      "1   2    Nguyen    62.0   172.0\n",
      "2   3      Tran    75.0   180.0\n",
      "3   4        Le    80.0   178.0\n"
     ]
    },
    {
     "data": {
      "text/html": [
       "<div>\n",
       "<style scoped>\n",
       "    .dataframe tbody tr th:only-of-type {\n",
       "        vertical-align: middle;\n",
       "    }\n",
       "\n",
       "    .dataframe tbody tr th {\n",
       "        vertical-align: top;\n",
       "    }\n",
       "\n",
       "    .dataframe thead th {\n",
       "        text-align: right;\n",
       "    }\n",
       "</style>\n",
       "<table border=\"1\" class=\"dataframe\">\n",
       "  <thead>\n",
       "    <tr style=\"text-align: right;\">\n",
       "      <th></th>\n",
       "      <th>id_1</th>\n",
       "      <th>id_2</th>\n",
       "      <th>last_name</th>\n",
       "      <th>weight_1</th>\n",
       "      <th>weight_2</th>\n",
       "    </tr>\n",
       "  </thead>\n",
       "  <tbody>\n",
       "    <tr>\n",
       "      <th>0</th>\n",
       "      <td>1</td>\n",
       "      <td>2</td>\n",
       "      <td>Nguyen</td>\n",
       "      <td>60.0</td>\n",
       "      <td>62.0</td>\n",
       "    </tr>\n",
       "  </tbody>\n",
       "</table>\n",
       "</div>"
      ],
      "text/plain": [
       "   id_1  id_2 last_name  weight_1  weight_2\n",
       "0     1     2    Nguyen      60.0      62.0"
      ]
     },
     "execution_count": 7,
     "metadata": {},
     "output_type": "execute_result"
    }
   ],
   "source": [
    "\n",
    "cur.execute(\"CREATE TABLE Patient(id INTEGER, last_name TEXT, weight REAL, height REAL)\")\n",
    "patient_data = [\n",
    "    (1, \"Nguyen\", 60, 170),\n",
    "    (2, \"Nguyen\", 62, 172),\n",
    "    (3, \"Tran\", 75, 180),\n",
    "    (4, \"Le\", 80, 178)\n",
    "]\n",
    "cur.executemany(\"INSERT INTO Patient VALUES (?, ?, ?, ?)\", patient_data)\n",
    "\n",
    "df_patients = pd.read_sql_query(\"SELECT * FROM Patient\", conn)\n",
    "\n",
    "# Khoảng sai số chấp nhận cho weight (ví dụ ±1kg)\n",
    "WEIGHT_TOLERANCE = 3.0\n",
    "\n",
    "pairs = []\n",
    "for (i, p1), (j, p2) in combinations(df_patients.iterrows(), 2):\n",
    "    # So sánh theo khoảng cách Boolean:\n",
    "    same_last_name = p1['last_name'] == p2['last_name']\n",
    "    similar_weight = abs(p1['weight'] - p2['weight']) <= WEIGHT_TOLERANCE\n",
    "\n",
    "    if same_last_name and similar_weight:\n",
    "        pairs.append((p1['id'], p2['id'], p1['last_name'], p1['weight'], p2['weight']))\n",
    "\n",
    "df_pairs = pd.DataFrame(pairs, columns=[\"id_1\", \"id_2\", \"last_name\", \"weight_1\", \"weight_2\"])\n",
    "\n",
    "print(df_patients)\n",
    "\n",
    "df_pairs"
   ]
  }
 ],
 "metadata": {
  "kernelspec": {
   "display_name": "Python 3",
   "language": "python",
   "name": "python3"
  },
  "language_info": {
   "codemirror_mode": {
    "name": "ipython",
    "version": 3
   },
   "file_extension": ".py",
   "mimetype": "text/x-python",
   "name": "python",
   "nbconvert_exporter": "python",
   "pygments_lexer": "ipython3",
   "version": "3.10.6"
  }
 },
 "nbformat": 4,
 "nbformat_minor": 5
}
